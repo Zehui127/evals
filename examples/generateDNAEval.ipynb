{
 "cells": [
  {
   "cell_type": "code",
   "execution_count": 1,
   "metadata": {},
   "outputs": [],
   "source": [
    "import pandas as pd\n",
    "import os\n",
    "\n",
    "# Assuming this notebook is in examples/\n",
    "registry_pth = os.path.join(os.getcwd(), \"../evals/registry\")"
   ]
  },
  {
   "cell_type": "code",
   "execution_count": 2,
   "metadata": {},
   "outputs": [],
   "source": [
    "sys_msg = \"You will be presented with a DNA sequence and a given letter. The task is to count frequency of given letter in the sequence and count the length of the DNA sequence. After reading the sequence tell me the frequency of given letter and length of the DNA sequence by saying ('X','Y') where 'X' is the frequency and 'Y' is the length of the DNA sequence\"\n",
    "def create_chat_prompt(DNA, letter):\n",
    "    user_prompt = f\"{DNA},{letter}\"\n",
    "    return [\n",
    "        {\"role\": \"system\", \"content\": sys_msg}, \n",
    "        {\"role\": \"user\", \"content\": user_prompt}\n",
    "    ]"
   ]
  },
  {
   "cell_type": "code",
   "execution_count": 3,
   "metadata": {},
   "outputs": [],
   "source": [
    "def getIdeal(DNA,letter):\n",
    "    length = len(DNA)\n",
    "    count = 0\n",
    "    for char in DNA:\n",
    "        if char == letter:\n",
    "            count += 1\n",
    "    return f\"({count},{length})\""
   ]
  },
  {
   "cell_type": "code",
   "execution_count": 4,
   "metadata": {},
   "outputs": [
    {
     "name": "stdout",
     "output_type": "stream",
     "text": [
      "[{'role': 'system', 'content': \"You will be presented with a DNA sequence and a given letter. The task is to count frequency of given letter in the sequence and count the length of the DNA sequence. After reading the sequence tell me the frequency of given letter and length of the DNA sequence by saying ('X','Y') where 'X' is the frequency and 'Y' is the length of the DNA sequence\"}, {'role': 'user', 'content': 'AAATTT,A'}] (3,6)\n"
     ]
    }
   ],
   "source": [
    "DNA, letter = \"AAATTT\",\"A\"\n",
    "question = create_chat_prompt(DNA, letter)\n",
    "answer = getIdeal(DNA, letter)\n",
    "print(question,answer)"
   ]
  },
  {
   "cell_type": "code",
   "execution_count": 5,
   "metadata": {},
   "outputs": [],
   "source": [
    "subject_pth = os.path.join(registry_pth, \"data\", \"count_token_freq_dna\")\n",
    "#os.makedirs(subject_pth, exist_ok=True)"
   ]
  },
  {
   "cell_type": "code",
   "execution_count": 27,
   "metadata": {},
   "outputs": [],
   "source": [
    "def add_to_dataframe( DNA_list, letter_list):\n",
    "    data_frame = {'input':[],'ideal':[]}\n",
    "    for DNA, letter in zip(DNA_list,letter_list):\n",
    "        data_frame['input'].append(create_chat_prompt(DNA,letter))\n",
    "        data_frame['ideal'].append(getIdeal(DNA,letter))\n",
    "    return data_frame\n"
   ]
  },
  {
   "cell_type": "code",
   "execution_count": 37,
   "metadata": {},
   "outputs": [],
   "source": [
    "resource = pd.read_csv(\"resource.csv\",sep=\"\\t\")\n",
    "seqs = resource['seq']"
   ]
  },
  {
   "cell_type": "code",
   "execution_count": 38,
   "metadata": {},
   "outputs": [],
   "source": [
    "import random\n",
    "def truncate_string(string):\n",
    "    length = random.randint(50,101)\n",
    "    if len(string) <= length:\n",
    "        return string\n",
    "    start = random.randint(0, len(string) - length)\n",
    "    end = start + length\n",
    "    return string[start:end]"
   ]
  },
  {
   "cell_type": "code",
   "execution_count": 52,
   "metadata": {},
   "outputs": [],
   "source": [
    "DNAs = []\n",
    "letters = []\n",
    "temp_letter_dict = ['A','T','G','C']\n",
    "count = 0\n",
    "N = 20\n",
    "for seq in seqs:\n",
    "    if count == N:\n",
    "        break\n",
    "    if len(seq)>10:\n",
    "        DNAs.append(truncate_string(seq))\n",
    "        letters.append(temp_letter_dict[random.randint(0,3)])\n",
    "    count += 1\n",
    "        "
   ]
  },
  {
   "cell_type": "code",
   "execution_count": 54,
   "metadata": {},
   "outputs": [],
   "source": [
    "data_frame = add_to_dataframe( DNAs, letters)"
   ]
  },
  {
   "cell_type": "code",
   "execution_count": 56,
   "metadata": {},
   "outputs": [],
   "source": [
    "df = pd.DataFrame(data=data_frame)\n",
    "samples_pth = os.path.join(subject_pth, \"samples.jsonl\")\n",
    "df[[\"input\", \"ideal\"]].to_json(samples_pth, lines=True, orient=\"records\")"
   ]
  },
  {
   "cell_type": "code",
   "execution_count": 61,
   "metadata": {},
   "outputs": [],
   "source": [
    "import yaml\n",
    "eval_id = f\"count_token_freq_dna\"\n",
    "registry_yaml = {}\n",
    "registry_yaml[eval_id] = {\n",
    "        \"id\": f\"{eval_id}.dev.v0\",\n",
    "        \"metrics\": [\"accuracy\"]\n",
    "    }\n",
    "registry_yaml[f\"{eval_id}.dev.v0\"] = {\n",
    "        \"class\": \"evals.elsuite.basic.match:Match\",\n",
    "        \"args\": {\n",
    "            \"samples_jsonl\": samples_pth,\n",
    "        }\n",
    "    }\n",
    "with open(os.path.join(registry_pth, \"evals\", \"count_token_freq_dna.yaml\"), \"w\") as f:\n",
    "    yaml.dump(registry_yaml, f)"
   ]
  },
  {
   "cell_type": "code",
   "execution_count": 62,
   "metadata": {},
   "outputs": [
    {
     "name": "stdout",
     "output_type": "stream",
     "text": [
      "[2023-03-30 19:47:50,436] [registry.py:156] Loading registry from /Users/lizehui/Desktop/workspace/evals/evals/registry/evals\n",
      "[2023-03-30 19:47:50,491] [registry.py:156] Loading registry from /Users/lizehui/.evals/evals\n",
      "Traceback (most recent call last):\n",
      "  File \"/Users/lizehui/opt/anaconda3/envs/gpt-eval/bin/oaieval\", line 8, in <module>\n",
      "    sys.exit(main())\n",
      "  File \"/Users/lizehui/Desktop/workspace/evals/evals/cli/oaieval.py\", line 248, in main\n",
      "    run(args, model_resolver=ModelResolver())\n",
      "  File \"/Users/lizehui/Desktop/workspace/evals/evals/cli/oaieval.py\", line 157, in run\n",
      "    assert (\n",
      "AssertionError: Eval count_token_freq_dna not found. Available: ['aba_mrpc_true_false', 'aba_mrpc_true_false.dev.v0', 'actors-sequence', 'actors-sequence.dev.match-v1', 'anagrams', 'anagrams.test.v1', 'balance-chemical-equation', 'balance-chemical-equation.dev.v0', 'belarusian-lexicon', 'belarusian-lexicon.dev.v0', 'best', 'best.dev.v0', 'bigrams', 'bigrams.dev.v0', 'born-first', 'born-first.dev.v0', 'bulgarian-lexicon', 'bulgarian-lexicon.dev.v0', 'chess-match', 'chess-piece-count', 'chess-piece-count.s1.simple-v0', 'chess.match.dev.v0', 'complex-replace-characters', 'complex-replace-characters.dev.v0', 'computer-science-problems', 'computer-science-problems.s1.simple-v0', 'connect4', 'connect4.s1.v1', 'convert-hex-hsl-lightness', 'convert-hex-hsl-lightness.dev.v0', 'coqa-closedqa', 'coqa-closedqa-correct', 'coqa-closedqa-correct.dev.v0', 'coqa-closedqa.dev.v0', 'coqa-fact', 'coqa-fact-expl', 'coqa-fact-expl.dev.v0', 'coqa-fact.dev.v0', 'coqa-match', 'coqa-match.dev.v0', 'crepe', 'crepe.dev.v2', 'cube-pack', 'cube-pack.dev.v0', 'decrypt-caesar-cipher', 'decrypt-caesar-cipher.dev.v0', 'determinant', 'determinant.test.v1', 'diagrammatic_logic', 'diagrammatic_logic.dev.v2', 'diversity', 'diversity.dev.v0', 'first-letters', 'first-letters.dev.v0', 'formal-logic', 'formal-logic.dev.v0', 'forth-stack-sim', 'forth-stack-sim-basic', 'forth-stack-sim-basic.dev.v0', 'forth-stack-sim-detailed', 'forth-stack-sim-detailed.dev.v0', 'forth-stack-sim.dev.v0', 'hand_ranks-match', 'hand_ranks.test.v1', 'hebrew-rhyme', 'hebrew-rhyme.v0', 'illinois-law', 'illinois-law.v0', 'imperial_date_to_string', 'imperial_date_to_string.dev.v0', 'infiniteloop-match', 'infiniteloop-match.s1.simple-v0', 'joke-animals', 'joke-animals-likert', 'joke-animals-likert.dev.v0', 'joke-animals-vs-fruits', 'joke-animals-vs-fruits.dev.v0', 'joke-animals.dev.v0', 'joke-fruits', 'joke-fruits-ans-meta', 'joke-fruits-ans-meta.dev.v0', 'joke-fruits-expl-meta', 'joke-fruits-expl-meta.dev.v0', 'joke-fruits-meta', 'joke-fruits-meta.dev.v0', 'joke-fruits.dev.v0', 'last-word-nth', 'last-word-nth.s1.simple-v0', 'lat_long_identify', 'lat_long_identify.dev.v0', 'logic-fact', 'logic-fact.dev.v0', 'logic-statements', 'logic-statements.dev.v0', 'manga-translation-bubble', 'manga-translation-bubble.dev.v0', 'manga-translation-page', 'manga-translation-page.dev.v0', 'manga-translation-panel', 'manga-translation-panel.dev.v0', 'map-electronic-component-part-to-fact', 'map-electronic-component-part-to-fact.dev.v0', 'mendelian_inheritance', 'mendelian_inheritance.dev.v0', 'mg-humor-people_jp', 'mg-humor-people_jp.dev.v0', 'number-pattern', 'number-pattern.dev.v0', 'number-reading', 'number-reading.dev.v0', 'partially_solved_crossword_clues', 'partially_solved_crossword_clues.dev.v0', 'pattern_identification', 'pattern_identification.dev.v0', 'rap-animals-vs-fruits', 'rap-animals-vs-fruits.dev.v0', 'rap-people-vs-fruits', 'rap-people-vs-fruits.dev.v0', 'rap-people-vs-people', 'rap-people-vs-people.dev.v0', 'regex-match', 'regex.match.dev.v0', 'reverse-string', 'reverse-string.s1.simple-v0', 'rot13', 'rot13.s1.simple-v0', 'russian-nlp-tasks', 'russian-nlp-tasks.dev.v0', 'sarcasm', 'sarcasm.test.v1', 'stock-option-terms-bear-call-spread', 'stock-option-terms-bear-call-spread.dev.v0', 'stock-option-terms-bull-call-spread', 'stock-option-terms-bull-call-spread.dev.v0', 'stock-option-terms-inverse-iron-butteryfly-spread', 'stock-option-terms-inverse-iron-butteryfly-spread.dev.v0', 'stock-option-terms-inverse-iron-condor-spread', 'stock-option-terms-inverse-iron-condor-spread.dev.v0', 'stock-option-terms-iron-butterfly-spread.dev.v0', 'stock-option-terms-iron-butteryfly-spread', 'stock-option-terms-iron-condor-spread', 'stock-option-terms-iron-condor-spread.dev.v0', 'stock-options-bear-call-spread', 'stock-options-bear-call-spread.dev.v0', 'stock-options-bull-call-spread', 'stock-options-bull-call-spread.dev.v0', 'stock-options-inverse-iron-butterfly-spread', 'stock-options-inverse-iron-butterfly-spread.dev.v0', 'stock-options-inverse-iron-condor-spread', 'stock-options-inverse-iron-condor-spread.dev.v0', 'stock-options-iron-butteryfly-spread', 'stock-options-iron-butteryfly-spread.dev.v0', 'stock-options-iron-condor-spread', 'stock-options-iron-condor-spread.dev.v0', 'taxes', 'taxes.dev.v0', 'test-fuzzy-match', 'test-fuzzy-match.s1.simple-v0', 'test-includes', 'test-includes.s1.simple-v0', 'test-match', 'test-match.s1.simple-v0', 'ukraine-eit', 'ukraine-eit.val.v0', 'us-tort-law', 'us-tort-law.dev.v0', 'which-is-heavier', 'which-is-heavier.dev.v0']\n"
     ]
    }
   ],
   "source": [
    "!oaieval gpt-3.5-turbo count_token_freq_dna"
   ]
  },
  {
   "cell_type": "code",
   "execution_count": null,
   "metadata": {},
   "outputs": [],
   "source": []
  }
 ],
 "metadata": {
  "kernelspec": {
   "display_name": "Python 3.9.16 ('gpt-eval')",
   "language": "python",
   "name": "python3"
  },
  "language_info": {
   "codemirror_mode": {
    "name": "ipython",
    "version": 3
   },
   "file_extension": ".py",
   "mimetype": "text/x-python",
   "name": "python",
   "nbconvert_exporter": "python",
   "pygments_lexer": "ipython3",
   "version": "3.9.16"
  },
  "orig_nbformat": 4,
  "vscode": {
   "interpreter": {
    "hash": "a340b58fb8871888b52580f302e4445480404abf38b00771a2c78f7370e27c56"
   }
  }
 },
 "nbformat": 4,
 "nbformat_minor": 2
}
